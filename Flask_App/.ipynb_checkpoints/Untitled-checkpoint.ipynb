{
 "cells": [
  {
   "cell_type": "code",
   "execution_count": 2,
   "id": "5cb6a2a3",
   "metadata": {},
   "outputs": [
    {
     "name": "stderr",
     "output_type": "stream",
     "text": [
      "WARNING:absl:At this time, the v2.11+ optimizer `tf.keras.optimizers.Adam` runs slowly on M1/M2 Macs, please use the legacy Keras optimizer instead, located at `tf.keras.optimizers.legacy.Adam`.\n",
      "WARNING:absl:There is a known slowdown when using v2.11+ Keras optimizers on M1/M2 Macs. Falling back to the legacy Keras optimizer, i.e., `tf.keras.optimizers.legacy.Adam`.\n"
     ]
    },
    {
     "name": "stdout",
     "output_type": "stream",
     "text": [
      "WARNING:tensorflow:Error in loading the saved optimizer state. As a result, your model is starting with a freshly initialized optimizer.\n"
     ]
    },
    {
     "name": "stderr",
     "output_type": "stream",
     "text": [
      "WARNING:tensorflow:Error in loading the saved optimizer state. As a result, your model is starting with a freshly initialized optimizer.\n"
     ]
    },
    {
     "name": "stdout",
     "output_type": "stream",
     "text": [
      " * Serving Flask app '__main__'\n",
      " * Debug mode: on\n"
     ]
    },
    {
     "name": "stderr",
     "output_type": "stream",
     "text": [
      "INFO:werkzeug:\u001b[31m\u001b[1mWARNING: This is a development server. Do not use it in a production deployment. Use a production WSGI server instead.\u001b[0m\n",
      " * Running on http://127.0.0.1:5000\n",
      "INFO:werkzeug:\u001b[33mPress CTRL+C to quit\u001b[0m\n",
      "INFO:werkzeug: * Restarting with watchdog (fsevents)\n",
      "Traceback (most recent call last):\n",
      "  File \"/Users/chris/anaconda3/lib/python3.10/site-packages/ipykernel_launcher.py\", line 15, in <module>\n",
      "    from ipykernel import kernelapp as app\n",
      "  File \"/Users/chris/anaconda3/lib/python3.10/site-packages/ipykernel/__init__.py\", line 5, in <module>\n",
      "    from .connect import *  # noqa\n",
      "  File \"/Users/chris/anaconda3/lib/python3.10/site-packages/ipykernel/connect.py\", line 11, in <module>\n",
      "    import jupyter_client\n",
      "  File \"/Users/chris/anaconda3/lib/python3.10/site-packages/jupyter_client/__init__.py\", line 8, in <module>\n",
      "    from .asynchronous import AsyncKernelClient  # noqa\n",
      "  File \"/Users/chris/anaconda3/lib/python3.10/site-packages/jupyter_client/asynchronous/__init__.py\", line 1, in <module>\n",
      "    from .client import AsyncKernelClient  # noqa\n",
      "  File \"/Users/chris/anaconda3/lib/python3.10/site-packages/jupyter_client/asynchronous/client.py\", line 8, in <module>\n",
      "    from jupyter_client.client import KernelClient\n",
      "  File \"/Users/chris/anaconda3/lib/python3.10/site-packages/jupyter_client/client.py\", line 21, in <module>\n",
      "    from .connect import ConnectionFileMixin\n",
      "  File \"/Users/chris/anaconda3/lib/python3.10/site-packages/jupyter_client/connect.py\", line 27, in <module>\n",
      "    from jupyter_core.paths import jupyter_data_dir\n",
      "  File \"/Users/chris/anaconda3/lib/python3.10/site-packages/jupyter_core/paths.py\", line 19, in <module>\n",
      "    from pathlib import Path\n",
      "  File \"/Users/chris/anaconda3/lib/python3.10/site-packages/pathlib.py\", line 10, in <module>\n",
      "    from collections import Sequence\n",
      "ImportError: cannot import name 'Sequence' from 'collections' (/Users/chris/anaconda3/lib/python3.10/collections/__init__.py)\n"
     ]
    },
    {
     "ename": "SystemExit",
     "evalue": "1",
     "output_type": "error",
     "traceback": [
      "An exception has occurred, use %tb to see the full traceback.\n",
      "\u001b[0;31mSystemExit\u001b[0m\u001b[0;31m:\u001b[0m 1\n"
     ]
    },
    {
     "name": "stderr",
     "output_type": "stream",
     "text": [
      "/Users/chris/anaconda3/lib/python3.10/site-packages/IPython/core/interactiveshell.py:3468: UserWarning: To exit: use 'exit', 'quit', or Ctrl-D.\n",
      "  warn(\"To exit: use 'exit', 'quit', or Ctrl-D.\", stacklevel=1)\n"
     ]
    }
   ],
   "source": [
    "from flask import Flask, render_template, request\n",
    "import pandas as pd\n",
    "import numpy as np\n",
    "import matplotlib.pyplot as plt\n",
    "from keras.models import load_model\n",
    "\n",
    "app = Flask(__name__)\n",
    "\n",
    "# Load Customer Data and Risk Prediction Model\n",
    "data = pd.read_csv(\"Customer_DB.csv\")\n",
    "Risk_Prediction_Model = load_model('Risk_Prediction_Model.h5')\n",
    "\n",
    "def predict_risk(input_data):\n",
    "    # Extract the features (excluding the 'ID' column)\n",
    "    input_data = input_data.drop(columns=['ID'])\n",
    "    \n",
    "    # Make predictions using the loaded model\n",
    "    predictions = Risk_Prediction_Model.predict(input_data)\n",
    "    \n",
    "    # Assuming the model returns a single prediction, you can access it like this\n",
    "    predicted_risk = round(float(predictions[0]), 4)\n",
    "\n",
    "    # Define the threshold\n",
    "    threshold = 0.5\n",
    "\n",
    "    # Make a binary prediction based on the threshold\n",
    "    if predicted_risk >= threshold:\n",
    "        prediction = \"Risk\"\n",
    "    else:\n",
    "        prediction = \"Non-Risk\"\n",
    "    \n",
    "    return predicted_risk, prediction\n",
    "\n",
    "def plot_prediction(predicted_risk_value):\n",
    "    # Generate x values (a range of values from -5 to 5 for the sigmoid curve)\n",
    "    x = np.linspace(-5, 5, 200)\n",
    "\n",
    "    # Calculate the corresponding y values using the sigmoid function\n",
    "    y = 1 / (1 + np.exp(-x))\n",
    "\n",
    "    # Calculate the x-coordinate on the sigmoid curve for the given y-coordinate (predicted_risk_value)\n",
    "    x_predicted = np.interp(predicted_risk_value, y, x)\n",
    "\n",
    "    # Plot the sigmoid curve above 0.5 on the y-axis in red and below 0.5 in green\n",
    "    plt.plot(x[y >= 0.5], y[y >= 0.5], color='red', label='Risk')\n",
    "    plt.plot(x[y <= 0.5], y[y <= 0.5], color='green', label='Non-Risk')\n",
    "\n",
    "    # Highlight the predicted risk value point\n",
    "    plt.scatter(x=[x_predicted], y=predicted_risk_value, color='blue', label=f'Predicted Risk Value ({predicted_risk_value:.2f})')\n",
    "\n",
    "    # Label the axes and add a legend\n",
    "    plt.xlabel('Input')\n",
    "    plt.ylabel('Sigmoid Output')\n",
    "    plt.legend()\n",
    "\n",
    "    # Save the plot as an image\n",
    "    plot_image_path = \"static/plot.png\"\n",
    "    plt.savefig(plot_image_path)\n",
    "\n",
    "    return plot_image_path\n",
    "\n",
    "@app.route(\"/\", methods=[\"GET\", \"POST\"])\n",
    "def index():\n",
    "    if request.method == \"POST\":\n",
    "        customer_id = int(request.form.get(\"customer_id\"))\n",
    "        customer_data = data[data['ID'] == customer_id]\n",
    "        \n",
    "        if customer_data.empty:\n",
    "            return render_template(\"index.html\", error=\"ID not found\")\n",
    "        \n",
    "        predicted_risk_value, prediction = predict_risk(customer_data)\n",
    "        repayment_probability = round((1 - predicted_risk_value) * 100, 4)a\n",
    "\n",
    "        plot_image_path = plot_prediction(predicted_risk_value)\n",
    "\n",
    "        return render_template(\n",
    "            \"index.html\",\n",
    "            predicted_risk_value=predicted_risk_value,\n",
    "            repayment_probability=repayment_probability,\n",
    "            prediction=prediction,\n",
    "            plot_image_path=plot_image_path\n",
    "        )\n",
    "\n",
    "    return render_template(\"index.html\")\n",
    "\n",
    "if __name__ == \"__main__\":\n",
    "    app.run(debug=True)\n"
   ]
  },
  {
   "cell_type": "code",
   "execution_count": null,
   "id": "e3ca4b3a",
   "metadata": {},
   "outputs": [],
   "source": []
  }
 ],
 "metadata": {
  "kernelspec": {
   "display_name": "Python 3 (ipykernel)",
   "language": "python",
   "name": "python3"
  },
  "language_info": {
   "codemirror_mode": {
    "name": "ipython",
    "version": 3
   },
   "file_extension": ".py",
   "mimetype": "text/x-python",
   "name": "python",
   "nbconvert_exporter": "python",
   "pygments_lexer": "ipython3",
   "version": "3.10.9"
  }
 },
 "nbformat": 4,
 "nbformat_minor": 5
}
