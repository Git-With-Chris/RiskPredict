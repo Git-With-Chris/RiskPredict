{
 "cells": [
  {
   "cell_type": "code",
   "execution_count": 2,
   "metadata": {},
   "outputs": [],
   "source": [
    "import numpy as np\n",
    "import pandas as pd\n",
    "import matplotlib.pyplot as plt"
   ]
  },
  {
   "cell_type": "code",
   "execution_count": 3,
   "metadata": {},
   "outputs": [],
   "source": [
    "data = pd.read_csv(\"C:/Users/Xiaofeng/RMIT/Case Studies in Data Science/WIL Project/WIL_Project/Flask_App/Customer_DB.csv\")"
   ]
  },
  {
   "cell_type": "code",
   "execution_count": 4,
   "metadata": {},
   "outputs": [],
   "source": [
    "customer_id = 103\n",
    "customer_data = data[data['ID'] == customer_id]"
   ]
  },
  {
   "cell_type": "code",
   "execution_count": 5,
   "metadata": {},
   "outputs": [
    {
     "data": {
      "text/html": [
       "<div>\n",
       "<style scoped>\n",
       "    .dataframe tbody tr th:only-of-type {\n",
       "        vertical-align: middle;\n",
       "    }\n",
       "\n",
       "    .dataframe tbody tr th {\n",
       "        vertical-align: top;\n",
       "    }\n",
       "\n",
       "    .dataframe thead th {\n",
       "        text-align: right;\n",
       "    }\n",
       "</style>\n",
       "<table border=\"1\" class=\"dataframe\">\n",
       "  <thead>\n",
       "    <tr style=\"text-align: right;\">\n",
       "      <th></th>\n",
       "      <th>ID</th>\n",
       "      <th>ExternalRiskEstimate</th>\n",
       "      <th>MSinceOldestTradeOpen</th>\n",
       "      <th>MSinceMostRecentTradeOpen</th>\n",
       "      <th>AverageMInFile</th>\n",
       "      <th>NumSatisfactoryTrades</th>\n",
       "      <th>NumTrades60Ever2DerogPubRec</th>\n",
       "      <th>NumTrades90Ever2DerogPubRec</th>\n",
       "      <th>PercentTradesNeverDelq</th>\n",
       "      <th>NumTotalTrades</th>\n",
       "      <th>...</th>\n",
       "      <th>MaxDelqEver_0.4</th>\n",
       "      <th>MaxDelqEver_0.6000000000000001</th>\n",
       "      <th>MaxDelqEver_0.8</th>\n",
       "      <th>MaxDelqEver_1.0</th>\n",
       "      <th>MaxDelq2PublicRecLast12M_0.0</th>\n",
       "      <th>MaxDelq2PublicRecLast12M_0.2</th>\n",
       "      <th>MaxDelq2PublicRecLast12M_0.4</th>\n",
       "      <th>MaxDelq2PublicRecLast12M_0.6000000000000001</th>\n",
       "      <th>MaxDelq2PublicRecLast12M_0.8</th>\n",
       "      <th>MaxDelq2PublicRecLast12M_1.0</th>\n",
       "    </tr>\n",
       "  </thead>\n",
       "  <tbody>\n",
       "    <tr>\n",
       "      <th>102</th>\n",
       "      <td>103</td>\n",
       "      <td>0.655738</td>\n",
       "      <td>0.225968</td>\n",
       "      <td>0.026432</td>\n",
       "      <td>0.27044</td>\n",
       "      <td>0.240506</td>\n",
       "      <td>0.052632</td>\n",
       "      <td>0.052632</td>\n",
       "      <td>1.0</td>\n",
       "      <td>0.182692</td>\n",
       "      <td>...</td>\n",
       "      <td>0</td>\n",
       "      <td>0</td>\n",
       "      <td>0</td>\n",
       "      <td>0</td>\n",
       "      <td>1</td>\n",
       "      <td>0</td>\n",
       "      <td>0</td>\n",
       "      <td>0</td>\n",
       "      <td>0</td>\n",
       "      <td>0</td>\n",
       "    </tr>\n",
       "  </tbody>\n",
       "</table>\n",
       "<p>1 rows × 36 columns</p>\n",
       "</div>"
      ],
      "text/plain": [
       "      ID  ExternalRiskEstimate  MSinceOldestTradeOpen  \\\n",
       "102  103              0.655738               0.225968   \n",
       "\n",
       "     MSinceMostRecentTradeOpen  AverageMInFile  NumSatisfactoryTrades  \\\n",
       "102                   0.026432         0.27044               0.240506   \n",
       "\n",
       "     NumTrades60Ever2DerogPubRec  NumTrades90Ever2DerogPubRec  \\\n",
       "102                     0.052632                     0.052632   \n",
       "\n",
       "     PercentTradesNeverDelq  NumTotalTrades  ...  MaxDelqEver_0.4  \\\n",
       "102                     1.0        0.182692  ...                0   \n",
       "\n",
       "     MaxDelqEver_0.6000000000000001  MaxDelqEver_0.8  MaxDelqEver_1.0  \\\n",
       "102                               0                0                0   \n",
       "\n",
       "     MaxDelq2PublicRecLast12M_0.0  MaxDelq2PublicRecLast12M_0.2  \\\n",
       "102                             1                             0   \n",
       "\n",
       "     MaxDelq2PublicRecLast12M_0.4  \\\n",
       "102                             0   \n",
       "\n",
       "     MaxDelq2PublicRecLast12M_0.6000000000000001  \\\n",
       "102                                            0   \n",
       "\n",
       "     MaxDelq2PublicRecLast12M_0.8  MaxDelq2PublicRecLast12M_1.0  \n",
       "102                             0                             0  \n",
       "\n",
       "[1 rows x 36 columns]"
      ]
     },
     "execution_count": 5,
     "metadata": {},
     "output_type": "execute_result"
    }
   ],
   "source": [
    "customer_data"
   ]
  },
  {
   "cell_type": "code",
   "execution_count": 6,
   "metadata": {},
   "outputs": [],
   "source": [
    "columns_to_plot = ['ExternalRiskEstimate', 'MSinceOldestTradeOpen', 'MSinceMostRecentTradeOpen']"
   ]
  },
  {
   "cell_type": "code",
   "execution_count": 7,
   "metadata": {},
   "outputs": [
    {
     "data": {
      "text/html": [
       "<div>\n",
       "<style scoped>\n",
       "    .dataframe tbody tr th:only-of-type {\n",
       "        vertical-align: middle;\n",
       "    }\n",
       "\n",
       "    .dataframe tbody tr th {\n",
       "        vertical-align: top;\n",
       "    }\n",
       "\n",
       "    .dataframe thead th {\n",
       "        text-align: right;\n",
       "    }\n",
       "</style>\n",
       "<table border=\"1\" class=\"dataframe\">\n",
       "  <thead>\n",
       "    <tr style=\"text-align: right;\">\n",
       "      <th></th>\n",
       "      <th>ExternalRiskEstimate</th>\n",
       "      <th>MSinceOldestTradeOpen</th>\n",
       "      <th>MSinceMostRecentTradeOpen</th>\n",
       "    </tr>\n",
       "  </thead>\n",
       "  <tbody>\n",
       "    <tr>\n",
       "      <th>102</th>\n",
       "      <td>0.655738</td>\n",
       "      <td>0.225968</td>\n",
       "      <td>0.026432</td>\n",
       "    </tr>\n",
       "  </tbody>\n",
       "</table>\n",
       "</div>"
      ],
      "text/plain": [
       "     ExternalRiskEstimate  MSinceOldestTradeOpen  MSinceMostRecentTradeOpen\n",
       "102              0.655738               0.225968                   0.026432"
      ]
     },
     "execution_count": 7,
     "metadata": {},
     "output_type": "execute_result"
    }
   ],
   "source": [
    "customer_data[columns_to_plot]"
   ]
  },
  {
   "cell_type": "code",
   "execution_count": 14,
   "metadata": {},
   "outputs": [
    {
     "data": {
      "text/plain": [
       "36"
      ]
     },
     "execution_count": 14,
     "metadata": {},
     "output_type": "execute_result"
    }
   ],
   "source": [
    "len(customer_data.columns)"
   ]
  },
  {
   "cell_type": "code",
   "execution_count": 9,
   "metadata": {},
   "outputs": [
    {
     "data": {
      "image/png": "[encoded data removed]",
      "text/plain": [
       "<Figure size 640x480 with 1 Axes>"
      ]
     },
     "metadata": {},
     "output_type": "display_data"
    }
   ],
   "source": [
    "for i, col in enumerate(columns_to_plot):\n",
    "    plt.scatter(x=i + 1, y=customer_data[col].values, color='red', label='Customer' if i == 0 else \"\", s=500)"
   ]
  },
  {
   "cell_type": "code",
   "execution_count": 10,
   "metadata": {},
   "outputs": [
    {
     "data": {
      "text/plain": [
       "{'whiskers': [<matplotlib.lines.Line2D at 0x217fb8e6650>,\n",
       "  <matplotlib.lines.Line2D at 0x217fb8e7410>,\n",
       "  <matplotlib.lines.Line2D at 0x217fb8f3890>,\n",
       "  <matplotlib.lines.Line2D at 0x217fb8fc250>,\n",
       "  <matplotlib.lines.Line2D at 0x217fb904490>,\n",
       "  <matplotlib.lines.Line2D at 0x217fb904f50>],\n",
       " 'caps': [<matplotlib.lines.Line2D at 0x217fb8f0090>,\n",
       "  <matplotlib.lines.Line2D at 0x217fb8f0c10>,\n",
       "  <matplotlib.lines.Line2D at 0x217fb8fce50>,\n",
       "  <matplotlib.lines.Line2D at 0x217fb8fd9d0>,\n",
       "  <matplotlib.lines.Line2D at 0x217fb905990>,\n",
       "  <matplotlib.lines.Line2D at 0x217fb906550>],\n",
       " 'boxes': [<matplotlib.lines.Line2D at 0x217fb87e3d0>,\n",
       "  <matplotlib.lines.Line2D at 0x217fb8f2d90>,\n",
       "  <matplotlib.lines.Line2D at 0x217fb8ff9d0>],\n",
       " 'medians': [<matplotlib.lines.Line2D at 0x217fb8f1750>,\n",
       "  <matplotlib.lines.Line2D at 0x217fb8fe3d0>,\n",
       "  <matplotlib.lines.Line2D at 0x217fb907090>],\n",
       " 'fliers': [<matplotlib.lines.Line2D at 0x217fb8f2290>,\n",
       "  <matplotlib.lines.Line2D at 0x217fb8280d0>,\n",
       "  <matplotlib.lines.Line2D at 0x217fb7dead0>],\n",
       " 'means': []}"
      ]
     },
     "execution_count": 10,
     "metadata": {},
     "output_type": "execute_result"
    },
    {
     "data": {
      "image/png": "[encoded data removed]",
      "text/plain": [
       "<Figure size 640x480 with 1 Axes>"
      ]
     },
     "metadata": {},
     "output_type": "display_data"
    }
   ],
   "source": [
    "plt.boxplot([data[col] for col in columns_to_plot], labels=columns_to_plot)"
   ]
  }
 ],
 "metadata": {
  "kernelspec": {
   "display_name": "Python 3",
   "language": "python",
   "name": "python3"
  },
  "language_info": {
   "codemirror_mode": {
    "name": "ipython",
    "version": 3
   },
   "file_extension": ".py",
   "mimetype": "text/x-python",
   "name": "python",
   "nbconvert_exporter": "python",
   "pygments_lexer": "ipython3",
   "version": "3.11.3"
  },
  "orig_nbformat": 4
 },
 "nbformat": 4,
 "nbformat_minor": 2
}
