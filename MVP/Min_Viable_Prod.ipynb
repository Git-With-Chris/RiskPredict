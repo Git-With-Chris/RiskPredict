{
  "cells": [
    {
      "cell_type": "markdown",
      "metadata": {
        "id": "ZMpCD7qEIh7g"
      },
      "source": [
        "# **Minimum Viable Product**"
      ]
    },
    {
      "cell_type": "markdown",
      "metadata": {
        "id": "F7smbz7IIyfQ"
      },
      "source": [
        "This notebook contains the modelling for the mininum viable product for Case Studies in Data Science COSC2669/COSC2186. The data set used is the FICO dataset which has been cleaned and processed for modelling. The data cleaning process can be viewed at [Data cleaning](https://github.com/WorkstationChris/WIL_Project/blob/main/Resources/minimal_dataset_notebook.ipynb)\n",
        "\n",
        "Initial modelling and outlier detection can be viewed here [Initial Modelling](https://github.com/WorkstationChris/WIL_Project/blob/main/Resources/binary_classification.ipynb).\n",
        "\n",
        "This notebook which will be creating the minimum viable product for the project.\n",
        "\n"
      ]
    },
    {
      "cell_type": "markdown",
      "metadata": {
        "id": "j0clvD36Mp00"
      },
      "source": [
        "### **Objectives for MVP**\n",
        "1. Inspect target distribution and feature types\n",
        "2. Determine an evaluation metric\n",
        "3. Determine a good baseline Model\n",
        "4. Refine and develop from baseline model to the final Model - \"Minimum Viable Product\"\n",
        "\n"
      ]
    },
    {
      "cell_type": "code",
      "execution_count": 2,
      "metadata": {
        "colab": {
          "base_uri": "https://localhost:8080/"
        },
        "id": "-eMAfi0bFbRR",
        "outputId": "6ab048f3-54a1-421f-ebd8-165056c68b4c"
      },
      "outputs": [
        {
          "output_type": "stream",
          "name": "stdout",
          "text": [
            "Mounted at /content/drive\n"
          ]
        }
      ],
      "source": [
        "# Mount to Google Drive (This step only required if using google colab)\n",
        "from google.colab import drive\n",
        "drive.mount('/content/drive')\n",
        "\n",
        "!cp /content/drive/MyDrive/case_study/Resources/* ."
      ]
    },
    {
      "cell_type": "code",
      "execution_count": 15,
      "metadata": {
        "id": "srrqK-KQHKOF"
      },
      "outputs": [],
      "source": [
        "# Import Libraries\n",
        "import pandas as pd\n",
        "import numpy as np\n",
        "import random\n",
        "import matplotlib.pyplot as plt\n",
        "import seaborn as sns\n",
        "from sklearn.model_selection import train_test_split\n",
        "import tensorflow as tf\n",
        "from keras.models import Sequential\n",
        "from keras.layers import Dense, Dropout\n",
        "from keras.callbacks import EarlyStopping\n",
        "from keras.optimizers import Adam"
      ]
    },
    {
      "cell_type": "markdown",
      "metadata": {
        "id": "PW7AUKEdIdM2"
      },
      "source": [
        "# **Data**\n",
        "\n",
        "Using the scaled data for modelling. We can swtich with the normalised data set to see how the results vary depending on the dataset. A important insights obtained from data cleaning is the distribution of variables and the analysis of these variables. The primary data variable will be a data frame consisting of all predictiors and the target variable will be the labels we want to predict.\n",
        "\n"
      ]
    },
    {
      "cell_type": "code",
      "execution_count": 4,
      "metadata": {
        "colab": {
          "base_uri": "https://localhost:8080/",
          "height": 412
        },
        "id": "4qAmybZJHtEx",
        "outputId": "b38da3ea-d15a-410a-c1a2-9a874d09256e"
      },
      "outputs": [
        {
          "output_type": "execute_result",
          "data": {
            "text/plain": [
              "   ExternalRiskEstimate  MSinceOldestTradeOpen  MSinceMostRecentTradeOpen  \\\n",
              "0              0.360656               0.177278                   0.017621   \n",
              "1              0.459016               0.069913                   0.066079   \n",
              "2              0.557377               0.079900                   0.022026   \n",
              "3              0.540984               0.208489                   0.004405   \n",
              "4              0.786885               0.413233                   0.118943   \n",
              "5              0.426230               0.168539                   0.048458   \n",
              "6              0.344262               0.107366                   0.030837   \n",
              "7              0.573770               0.182272                   0.030837   \n",
              "8              0.426230               0.401998                   0.008811   \n",
              "9              0.459016               0.096130                   0.017621   \n",
              "\n",
              "   AverageMInFile  NumSatisfactoryTrades  NumTrades60Ever2DerogPubRec  \\\n",
              "0        0.251572               0.253165                     0.157895   \n",
              "1        0.116352               0.025316                     0.210526   \n",
              "2        0.062893               0.113924                     0.000000   \n",
              "3        0.216981               0.354430                     0.052632   \n",
              "4        0.402516               0.151899                     0.000000   \n",
              "5        0.232704               0.392405                     0.000000   \n",
              "6        0.103774               0.316456                     0.000000   \n",
              "7        0.191824               0.215190                     0.000000   \n",
              "8        0.421384               0.303797                     0.000000   \n",
              "9        0.100629               0.240506                     0.000000   \n",
              "\n",
              "   NumTrades90Ever2DerogPubRec  PercentTradesNeverDelq  \\\n",
              "0                     0.000000                    0.83   \n",
              "1                     0.210526                    1.00   \n",
              "2                     0.000000                    1.00   \n",
              "3                     0.052632                    0.93   \n",
              "4                     0.000000                    1.00   \n",
              "5                     0.000000                    0.91   \n",
              "6                     0.000000                    0.92   \n",
              "7                     0.000000                    0.83   \n",
              "8                     0.000000                    0.85   \n",
              "9                     0.000000                    0.95   \n",
              "\n",
              "   MaxDelq2PublicRecLast12M  MaxDelqEver  ...  NetFractionRevolvingBurden  \\\n",
              "0                       0.4          0.4  ...                    0.142241   \n",
              "1                       1.0          0.0  ...                    0.000000   \n",
              "2                       0.0          0.0  ...                    0.228448   \n",
              "3                       0.0          0.2  ...                    0.310345   \n",
              "4                       0.0          0.0  ...                    0.219828   \n",
              "5                       0.2          0.2  ...                    0.267241   \n",
              "6                       0.2          0.2  ...                    0.383621   \n",
              "7                       0.0          0.2  ...                    0.120690   \n",
              "8                       0.2          0.2  ...                    0.293103   \n",
              "9                       0.2          0.2  ...                    0.133621   \n",
              "\n",
              "   NetFractionInstallBurden  NumRevolvingTradesWBalance  \\\n",
              "0                  0.157113                     0.25000   \n",
              "1                  0.157113                     0.00000   \n",
              "2                  0.140127                     0.12500   \n",
              "3                  0.176221                     0.18750   \n",
              "4                  0.188960                     0.09375   \n",
              "5                  0.197452                     0.37500   \n",
              "6                  0.161359                     0.21875   \n",
              "7                  0.101911                     0.06250   \n",
              "8                  0.157113                     0.21875   \n",
              "9                  0.182590                     0.15625   \n",
              "\n",
              "   NumInstallTradesWBalance  NumBank2NatlTradesWHighUtilization  \\\n",
              "0                  0.290323                            0.055556   \n",
              "1                  0.000000                            0.055556   \n",
              "2                  0.322581                            0.055556   \n",
              "3                  0.387097                            0.166667   \n",
              "4                  0.290323                            0.000000   \n",
              "5                  0.387097                            0.166667   \n",
              "6                  0.483871                            0.111111   \n",
              "7                  0.322581                            0.111111   \n",
              "8                  0.290323                            0.166667   \n",
              "9                  0.354839                            0.055556   \n",
              "\n",
              "   PercentTradesWBalance  RecentDelq_1yr  RecentDeql_2yr  \\\n",
              "0                   0.69             1.0             1.0   \n",
              "1                   0.00             0.0             0.0   \n",
              "2                   0.86             0.0             0.0   \n",
              "3                   0.91             0.0             0.0   \n",
              "4                   0.80             0.0             0.0   \n",
              "5                   0.94             1.0             1.0   \n",
              "6                   1.00             1.0             1.0   \n",
              "7                   0.40             0.0             0.0   \n",
              "8                   0.90             1.0             1.0   \n",
              "9                   0.62             1.0             1.0   \n",
              "\n",
              "   RecentInquiry_1yr_excl7days  RcentInquiry_2yr_excl7days  \n",
              "0                          0.0                         0.0  \n",
              "1                          0.0                         0.0  \n",
              "2                          0.0                         0.0  \n",
              "3                          0.0                         0.0  \n",
              "4                          0.0                         0.0  \n",
              "5                          0.0                         0.0  \n",
              "6                          0.0                         0.0  \n",
              "7                          0.0                         0.0  \n",
              "8                          0.0                         0.0  \n",
              "9                          0.0                         0.0  \n",
              "\n",
              "[10 rows x 25 columns]"
            ],
            "text/html": [
              "\n",
              "  <div id=\"df-377d2aec-a9a3-4d76-be6e-b682006d10c5\" class=\"colab-df-container\">\n",
              "    <div>\n",
              "<style scoped>\n",
              "    .dataframe tbody tr th:only-of-type {\n",
              "        vertical-align: middle;\n",
              "    }\n",
              "\n",
              "    .dataframe tbody tr th {\n",
              "        vertical-align: top;\n",
              "    }\n",
              "\n",
              "    .dataframe thead th {\n",
              "        text-align: right;\n",
              "    }\n",
              "</style>\n",
              "<table border=\"1\" class=\"dataframe\">\n",
              "  <thead>\n",
              "    <tr style=\"text-align: right;\">\n",
              "      <th></th>\n",
              "      <th>ExternalRiskEstimate</th>\n",
              "      <th>MSinceOldestTradeOpen</th>\n",
              "      <th>MSinceMostRecentTradeOpen</th>\n",
              "      <th>AverageMInFile</th>\n",
              "      <th>NumSatisfactoryTrades</th>\n",
              "      <th>NumTrades60Ever2DerogPubRec</th>\n",
              "      <th>NumTrades90Ever2DerogPubRec</th>\n",
              "      <th>PercentTradesNeverDelq</th>\n",
              "      <th>MaxDelq2PublicRecLast12M</th>\n",
              "      <th>MaxDelqEver</th>\n",
              "      <th>...</th>\n",
              "      <th>NetFractionRevolvingBurden</th>\n",
              "      <th>NetFractionInstallBurden</th>\n",
              "      <th>NumRevolvingTradesWBalance</th>\n",
              "      <th>NumInstallTradesWBalance</th>\n",
              "      <th>NumBank2NatlTradesWHighUtilization</th>\n",
              "      <th>PercentTradesWBalance</th>\n",
              "      <th>RecentDelq_1yr</th>\n",
              "      <th>RecentDeql_2yr</th>\n",
              "      <th>RecentInquiry_1yr_excl7days</th>\n",
              "      <th>RcentInquiry_2yr_excl7days</th>\n",
              "    </tr>\n",
              "  </thead>\n",
              "  <tbody>\n",
              "    <tr>\n",
              "      <th>0</th>\n",
              "      <td>0.360656</td>\n",
              "      <td>0.177278</td>\n",
              "      <td>0.017621</td>\n",
              "      <td>0.251572</td>\n",
              "      <td>0.253165</td>\n",
              "      <td>0.157895</td>\n",
              "      <td>0.000000</td>\n",
              "      <td>0.83</td>\n",
              "      <td>0.4</td>\n",
              "      <td>0.4</td>\n",
              "      <td>...</td>\n",
              "      <td>0.142241</td>\n",
              "      <td>0.157113</td>\n",
              "      <td>0.25000</td>\n",
              "      <td>0.290323</td>\n",
              "      <td>0.055556</td>\n",
              "      <td>0.69</td>\n",
              "      <td>1.0</td>\n",
              "      <td>1.0</td>\n",
              "      <td>0.0</td>\n",
              "      <td>0.0</td>\n",
              "    </tr>\n",
              "    <tr>\n",
              "      <th>1</th>\n",
              "      <td>0.459016</td>\n",
              "      <td>0.069913</td>\n",
              "      <td>0.066079</td>\n",
              "      <td>0.116352</td>\n",
              "      <td>0.025316</td>\n",
              "      <td>0.210526</td>\n",
              "      <td>0.210526</td>\n",
              "      <td>1.00</td>\n",
              "      <td>1.0</td>\n",
              "      <td>0.0</td>\n",
              "      <td>...</td>\n",
              "      <td>0.000000</td>\n",
              "      <td>0.157113</td>\n",
              "      <td>0.00000</td>\n",
              "      <td>0.000000</td>\n",
              "      <td>0.055556</td>\n",
              "      <td>0.00</td>\n",
              "      <td>0.0</td>\n",
              "      <td>0.0</td>\n",
              "      <td>0.0</td>\n",
              "      <td>0.0</td>\n",
              "    </tr>\n",
              "    <tr>\n",
              "      <th>2</th>\n",
              "      <td>0.557377</td>\n",
              "      <td>0.079900</td>\n",
              "      <td>0.022026</td>\n",
              "      <td>0.062893</td>\n",
              "      <td>0.113924</td>\n",
              "      <td>0.000000</td>\n",
              "      <td>0.000000</td>\n",
              "      <td>1.00</td>\n",
              "      <td>0.0</td>\n",
              "      <td>0.0</td>\n",
              "      <td>...</td>\n",
              "      <td>0.228448</td>\n",
              "      <td>0.140127</td>\n",
              "      <td>0.12500</td>\n",
              "      <td>0.322581</td>\n",
              "      <td>0.055556</td>\n",
              "      <td>0.86</td>\n",
              "      <td>0.0</td>\n",
              "      <td>0.0</td>\n",
              "      <td>0.0</td>\n",
              "      <td>0.0</td>\n",
              "    </tr>\n",
              "    <tr>\n",
              "      <th>3</th>\n",
              "      <td>0.540984</td>\n",
              "      <td>0.208489</td>\n",
              "      <td>0.004405</td>\n",
              "      <td>0.216981</td>\n",
              "      <td>0.354430</td>\n",
              "      <td>0.052632</td>\n",
              "      <td>0.052632</td>\n",
              "      <td>0.93</td>\n",
              "      <td>0.0</td>\n",
              "      <td>0.2</td>\n",
              "      <td>...</td>\n",
              "      <td>0.310345</td>\n",
              "      <td>0.176221</td>\n",
              "      <td>0.18750</td>\n",
              "      <td>0.387097</td>\n",
              "      <td>0.166667</td>\n",
              "      <td>0.91</td>\n",
              "      <td>0.0</td>\n",
              "      <td>0.0</td>\n",
              "      <td>0.0</td>\n",
              "      <td>0.0</td>\n",
              "    </tr>\n",
              "    <tr>\n",
              "      <th>4</th>\n",
              "      <td>0.786885</td>\n",
              "      <td>0.413233</td>\n",
              "      <td>0.118943</td>\n",
              "      <td>0.402516</td>\n",
              "      <td>0.151899</td>\n",
              "      <td>0.000000</td>\n",
              "      <td>0.000000</td>\n",
              "      <td>1.00</td>\n",
              "      <td>0.0</td>\n",
              "      <td>0.0</td>\n",
              "      <td>...</td>\n",
              "      <td>0.219828</td>\n",
              "      <td>0.188960</td>\n",
              "      <td>0.09375</td>\n",
              "      <td>0.290323</td>\n",
              "      <td>0.000000</td>\n",
              "      <td>0.80</td>\n",
              "      <td>0.0</td>\n",
              "      <td>0.0</td>\n",
              "      <td>0.0</td>\n",
              "      <td>0.0</td>\n",
              "    </tr>\n",
              "    <tr>\n",
              "      <th>5</th>\n",
              "      <td>0.426230</td>\n",
              "      <td>0.168539</td>\n",
              "      <td>0.048458</td>\n",
              "      <td>0.232704</td>\n",
              "      <td>0.392405</td>\n",
              "      <td>0.000000</td>\n",
              "      <td>0.000000</td>\n",
              "      <td>0.91</td>\n",
              "      <td>0.2</td>\n",
              "      <td>0.2</td>\n",
              "      <td>...</td>\n",
              "      <td>0.267241</td>\n",
              "      <td>0.197452</td>\n",
              "      <td>0.37500</td>\n",
              "      <td>0.387097</td>\n",
              "      <td>0.166667</td>\n",
              "      <td>0.94</td>\n",
              "      <td>1.0</td>\n",
              "      <td>1.0</td>\n",
              "      <td>0.0</td>\n",
              "      <td>0.0</td>\n",
              "    </tr>\n",
              "    <tr>\n",
              "      <th>6</th>\n",
              "      <td>0.344262</td>\n",
              "      <td>0.107366</td>\n",
              "      <td>0.030837</td>\n",
              "      <td>0.103774</td>\n",
              "      <td>0.316456</td>\n",
              "      <td>0.000000</td>\n",
              "      <td>0.000000</td>\n",
              "      <td>0.92</td>\n",
              "      <td>0.2</td>\n",
              "      <td>0.2</td>\n",
              "      <td>...</td>\n",
              "      <td>0.383621</td>\n",
              "      <td>0.161359</td>\n",
              "      <td>0.21875</td>\n",
              "      <td>0.483871</td>\n",
              "      <td>0.111111</td>\n",
              "      <td>1.00</td>\n",
              "      <td>1.0</td>\n",
              "      <td>1.0</td>\n",
              "      <td>0.0</td>\n",
              "      <td>0.0</td>\n",
              "    </tr>\n",
              "    <tr>\n",
              "      <th>7</th>\n",
              "      <td>0.573770</td>\n",
              "      <td>0.182272</td>\n",
              "      <td>0.030837</td>\n",
              "      <td>0.191824</td>\n",
              "      <td>0.215190</td>\n",
              "      <td>0.000000</td>\n",
              "      <td>0.000000</td>\n",
              "      <td>0.83</td>\n",
              "      <td>0.0</td>\n",
              "      <td>0.2</td>\n",
              "      <td>...</td>\n",
              "      <td>0.120690</td>\n",
              "      <td>0.101911</td>\n",
              "      <td>0.06250</td>\n",
              "      <td>0.322581</td>\n",
              "      <td>0.111111</td>\n",
              "      <td>0.40</td>\n",
              "      <td>0.0</td>\n",
              "      <td>0.0</td>\n",
              "      <td>0.0</td>\n",
              "      <td>0.0</td>\n",
              "    </tr>\n",
              "    <tr>\n",
              "      <th>8</th>\n",
              "      <td>0.426230</td>\n",
              "      <td>0.401998</td>\n",
              "      <td>0.008811</td>\n",
              "      <td>0.421384</td>\n",
              "      <td>0.303797</td>\n",
              "      <td>0.000000</td>\n",
              "      <td>0.000000</td>\n",
              "      <td>0.85</td>\n",
              "      <td>0.2</td>\n",
              "      <td>0.2</td>\n",
              "      <td>...</td>\n",
              "      <td>0.293103</td>\n",
              "      <td>0.157113</td>\n",
              "      <td>0.21875</td>\n",
              "      <td>0.290323</td>\n",
              "      <td>0.166667</td>\n",
              "      <td>0.90</td>\n",
              "      <td>1.0</td>\n",
              "      <td>1.0</td>\n",
              "      <td>0.0</td>\n",
              "      <td>0.0</td>\n",
              "    </tr>\n",
              "    <tr>\n",
              "      <th>9</th>\n",
              "      <td>0.459016</td>\n",
              "      <td>0.096130</td>\n",
              "      <td>0.017621</td>\n",
              "      <td>0.100629</td>\n",
              "      <td>0.240506</td>\n",
              "      <td>0.000000</td>\n",
              "      <td>0.000000</td>\n",
              "      <td>0.95</td>\n",
              "      <td>0.2</td>\n",
              "      <td>0.2</td>\n",
              "      <td>...</td>\n",
              "      <td>0.133621</td>\n",
              "      <td>0.182590</td>\n",
              "      <td>0.15625</td>\n",
              "      <td>0.354839</td>\n",
              "      <td>0.055556</td>\n",
              "      <td>0.62</td>\n",
              "      <td>1.0</td>\n",
              "      <td>1.0</td>\n",
              "      <td>0.0</td>\n",
              "      <td>0.0</td>\n",
              "    </tr>\n",
              "  </tbody>\n",
              "</table>\n",
              "<p>10 rows × 25 columns</p>\n",
              "</div>\n",
              "    <div class=\"colab-df-buttons\">\n",
              "\n",
              "  <div class=\"colab-df-container\">\n",
              "    <button class=\"colab-df-convert\" onclick=\"convertToInteractive('df-377d2aec-a9a3-4d76-be6e-b682006d10c5')\"\n",
              "            title=\"Convert this dataframe to an interactive table.\"\n",
              "            style=\"display:none;\">\n",
              "\n",
              "  <svg xmlns=\"http://www.w3.org/2000/svg\" height=\"24px\" viewBox=\"0 -960 960 960\">\n",
              "    <path d=\"M120-120v-720h720v720H120Zm60-500h600v-160H180v160Zm220 220h160v-160H400v160Zm0 220h160v-160H400v160ZM180-400h160v-160H180v160Zm440 0h160v-160H620v160ZM180-180h160v-160H180v160Zm440 0h160v-160H620v160Z\"/>\n",
              "  </svg>\n",
              "    </button>\n",
              "\n",
              "  <style>\n",
              "    .colab-df-container {\n",
              "      display:flex;\n",
              "      gap: 12px;\n",
              "    }\n",
              "\n",
              "    .colab-df-convert {\n",
              "      background-color: #E8F0FE;\n",
              "      border: none;\n",
              "      border-radius: 50%;\n",
              "      cursor: pointer;\n",
              "      display: none;\n",
              "      fill: #1967D2;\n",
              "      height: 32px;\n",
              "      padding: 0 0 0 0;\n",
              "      width: 32px;\n",
              "    }\n",
              "\n",
              "    .colab-df-convert:hover {\n",
              "      background-color: #E2EBFA;\n",
              "      box-shadow: 0px 1px 2px rgba(60, 64, 67, 0.3), 0px 1px 3px 1px rgba(60, 64, 67, 0.15);\n",
              "      fill: #174EA6;\n",
              "    }\n",
              "\n",
              "    .colab-df-buttons div {\n",
              "      margin-bottom: 4px;\n",
              "    }\n",
              "\n",
              "    [theme=dark] .colab-df-convert {\n",
              "      background-color: #3B4455;\n",
              "      fill: #D2E3FC;\n",
              "    }\n",
              "\n",
              "    [theme=dark] .colab-df-convert:hover {\n",
              "      background-color: #434B5C;\n",
              "      box-shadow: 0px 1px 3px 1px rgba(0, 0, 0, 0.15);\n",
              "      filter: drop-shadow(0px 1px 2px rgba(0, 0, 0, 0.3));\n",
              "      fill: #FFFFFF;\n",
              "    }\n",
              "  </style>\n",
              "\n",
              "    <script>\n",
              "      const buttonEl =\n",
              "        document.querySelector('#df-377d2aec-a9a3-4d76-be6e-b682006d10c5 button.colab-df-convert');\n",
              "      buttonEl.style.display =\n",
              "        google.colab.kernel.accessAllowed ? 'block' : 'none';\n",
              "\n",
              "      async function convertToInteractive(key) {\n",
              "        const element = document.querySelector('#df-377d2aec-a9a3-4d76-be6e-b682006d10c5');\n",
              "        const dataTable =\n",
              "          await google.colab.kernel.invokeFunction('convertToInteractive',\n",
              "                                                    [key], {});\n",
              "        if (!dataTable) return;\n",
              "\n",
              "        const docLinkHtml = 'Like what you see? Visit the ' +\n",
              "          '<a target=\"_blank\" href=https://colab.research.google.com/notebooks/data_table.ipynb>data table notebook</a>'\n",
              "          + ' to learn more about interactive tables.';\n",
              "        element.innerHTML = '';\n",
              "        dataTable['output_type'] = 'display_data';\n",
              "        await google.colab.output.renderOutput(dataTable, element);\n",
              "        const docLink = document.createElement('div');\n",
              "        docLink.innerHTML = docLinkHtml;\n",
              "        element.appendChild(docLink);\n",
              "      }\n",
              "    </script>\n",
              "  </div>\n",
              "\n",
              "\n",
              "<div id=\"df-c3c75310-2d0a-496a-96dd-d0873d709ef1\">\n",
              "  <button class=\"colab-df-quickchart\" onclick=\"quickchart('df-c3c75310-2d0a-496a-96dd-d0873d709ef1')\"\n",
              "            title=\"Suggest charts.\"\n",
              "            style=\"display:none;\">\n",
              "\n",
              "<svg xmlns=\"http://www.w3.org/2000/svg\" height=\"24px\"viewBox=\"0 0 24 24\"\n",
              "     width=\"24px\">\n",
              "    <g>\n",
              "        <path d=\"M19 3H5c-1.1 0-2 .9-2 2v14c0 1.1.9 2 2 2h14c1.1 0 2-.9 2-2V5c0-1.1-.9-2-2-2zM9 17H7v-7h2v7zm4 0h-2V7h2v10zm4 0h-2v-4h2v4z\"/>\n",
              "    </g>\n",
              "</svg>\n",
              "  </button>\n",
              "\n",
              "<style>\n",
              "  .colab-df-quickchart {\n",
              "      --bg-color: #E8F0FE;\n",
              "      --fill-color: #1967D2;\n",
              "      --hover-bg-color: #E2EBFA;\n",
              "      --hover-fill-color: #174EA6;\n",
              "      --disabled-fill-color: #AAA;\n",
              "      --disabled-bg-color: #DDD;\n",
              "  }\n",
              "\n",
              "  [theme=dark] .colab-df-quickchart {\n",
              "      --bg-color: #3B4455;\n",
              "      --fill-color: #D2E3FC;\n",
              "      --hover-bg-color: #434B5C;\n",
              "      --hover-fill-color: #FFFFFF;\n",
              "      --disabled-bg-color: #3B4455;\n",
              "      --disabled-fill-color: #666;\n",
              "  }\n",
              "\n",
              "  .colab-df-quickchart {\n",
              "    background-color: var(--bg-color);\n",
              "    border: none;\n",
              "    border-radius: 50%;\n",
              "    cursor: pointer;\n",
              "    display: none;\n",
              "    fill: var(--fill-color);\n",
              "    height: 32px;\n",
              "    padding: 0;\n",
              "    width: 32px;\n",
              "  }\n",
              "\n",
              "  .colab-df-quickchart:hover {\n",
              "    background-color: var(--hover-bg-color);\n",
              "    box-shadow: 0 1px 2px rgba(60, 64, 67, 0.3), 0 1px 3px 1px rgba(60, 64, 67, 0.15);\n",
              "    fill: var(--button-hover-fill-color);\n",
              "  }\n",
              "\n",
              "  .colab-df-quickchart-complete:disabled,\n",
              "  .colab-df-quickchart-complete:disabled:hover {\n",
              "    background-color: var(--disabled-bg-color);\n",
              "    fill: var(--disabled-fill-color);\n",
              "    box-shadow: none;\n",
              "  }\n",
              "\n",
              "  .colab-df-spinner {\n",
              "    border: 2px solid var(--fill-color);\n",
              "    border-color: transparent;\n",
              "    border-bottom-color: var(--fill-color);\n",
              "    animation:\n",
              "      spin 1s steps(1) infinite;\n",
              "  }\n",
              "\n",
              "  @keyframes spin {\n",
              "    0% {\n",
              "      border-color: transparent;\n",
              "      border-bottom-color: var(--fill-color);\n",
              "      border-left-color: var(--fill-color);\n",
              "    }\n",
              "    20% {\n",
              "      border-color: transparent;\n",
              "      border-left-color: var(--fill-color);\n",
              "      border-top-color: var(--fill-color);\n",
              "    }\n",
              "    30% {\n",
              "      border-color: transparent;\n",
              "      border-left-color: var(--fill-color);\n",
              "      border-top-color: var(--fill-color);\n",
              "      border-right-color: var(--fill-color);\n",
              "    }\n",
              "    40% {\n",
              "      border-color: transparent;\n",
              "      border-right-color: var(--fill-color);\n",
              "      border-top-color: var(--fill-color);\n",
              "    }\n",
              "    60% {\n",
              "      border-color: transparent;\n",
              "      border-right-color: var(--fill-color);\n",
              "    }\n",
              "    80% {\n",
              "      border-color: transparent;\n",
              "      border-right-color: var(--fill-color);\n",
              "      border-bottom-color: var(--fill-color);\n",
              "    }\n",
              "    90% {\n",
              "      border-color: transparent;\n",
              "      border-bottom-color: var(--fill-color);\n",
              "    }\n",
              "  }\n",
              "</style>\n",
              "\n",
              "  <script>\n",
              "    async function quickchart(key) {\n",
              "      const quickchartButtonEl =\n",
              "        document.querySelector('#' + key + ' button');\n",
              "      quickchartButtonEl.disabled = true;  // To prevent multiple clicks.\n",
              "      quickchartButtonEl.classList.add('colab-df-spinner');\n",
              "      try {\n",
              "        const charts = await google.colab.kernel.invokeFunction(\n",
              "            'suggestCharts', [key], {});\n",
              "      } catch (error) {\n",
              "        console.error('Error during call to suggestCharts:', error);\n",
              "      }\n",
              "      quickchartButtonEl.classList.remove('colab-df-spinner');\n",
              "      quickchartButtonEl.classList.add('colab-df-quickchart-complete');\n",
              "    }\n",
              "    (() => {\n",
              "      let quickchartButtonEl =\n",
              "        document.querySelector('#df-c3c75310-2d0a-496a-96dd-d0873d709ef1 button');\n",
              "      quickchartButtonEl.style.display =\n",
              "        google.colab.kernel.accessAllowed ? 'block' : 'none';\n",
              "    })();\n",
              "  </script>\n",
              "</div>\n",
              "    </div>\n",
              "  </div>\n"
            ]
          },
          "metadata": {},
          "execution_count": 4
        }
      ],
      "source": [
        "# Read cleaned data\n",
        "data = pd.read_csv(\"scaled.csv\", index_col= 0)\n",
        "# data = pd.read_csv(\"normalised.csv\", index_col= 0)\n",
        "\n",
        "target = pd.read_csv(\"target.csv\", index_col= 0)\n",
        "data.head(10)"
      ]
    },
    {
      "cell_type": "markdown",
      "metadata": {
        "id": "Rfs3U1y1ZMoY"
      },
      "source": [
        "### **One-Hot Encoding**"
      ]
    },
    {
      "cell_type": "markdown",
      "metadata": {
        "id": "MFG9FjTpW8Lh"
      },
      "source": [
        "From the data cleaning we know that 'MaxDelqEver' & 'MaxDelq2PublicRecLast12M' are non-binary categorical variables. So it might be useful to one-hot encode them before modelling to ensure that the model can make sense of the data it is being fed.\n",
        "\n",
        "Another key reason is though this is the first iteration of the model. Future iterations will need to encorporate a method to be transparent in its output, so having individual these two non- binary variables broken down into presence and absence construct will add to the explainability"
      ]
    },
    {
      "cell_type": "code",
      "execution_count": 5,
      "metadata": {
        "id": "C_Z42XC_OOIk"
      },
      "outputs": [],
      "source": [
        "# One hot Encoding\n",
        "fico_df = pd.get_dummies(data, columns=['MaxDelqEver','MaxDelq2PublicRecLast12M'])\n",
        "# fico_df.head()"
      ]
    },
    {
      "cell_type": "markdown",
      "metadata": {
        "id": "-1YuUZyjO-Wl"
      },
      "source": [
        "### **Target distribution**\n",
        "\n",
        "The target variables distribution will give us insights on how to choose different parameters of our model. It is also necessary to determine a good evaluation meteric and any necessary weights that might need to be added."
      ]
    },
    {
      "cell_type": "code",
      "execution_count": 6,
      "metadata": {
        "colab": {
          "base_uri": "https://localhost:8080/",
          "height": 472
        },
        "id": "umF7WpPeaL3_",
        "outputId": "99f9d78d-1c90-45ec-f724-36dbe8fb568f"
      },
      "outputs": [
        {
          "output_type": "display_data",
          "data": {
            "text/plain": [
              "<Figure size 640x480 with 1 Axes>"
            ],
            "image/png": "[encoded data removed]"
          },
          "metadata": {}
        }
      ],
      "source": [
        "# Create a countplot\n",
        "sns.countplot(data=target, x='RiskPerformance')\n",
        "\n",
        "# Add labels and title\n",
        "plt.xlabel('Target Variable')\n",
        "plt.ylabel('Count')\n",
        "plt.title('Distribution of Binary Target Variable')\n",
        "\n",
        "# Show the plot\n",
        "plt.show()"
      ]
    },
    {
      "cell_type": "markdown",
      "metadata": {
        "id": "rDIRFlstobEq"
      },
      "source": [
        "### **Training, Validation and Testing Split**"
      ]
    },
    {
      "cell_type": "code",
      "execution_count": 7,
      "metadata": {
        "colab": {
          "base_uri": "https://localhost:8080/"
        },
        "id": "go0RrifVozdU",
        "outputId": "39cf6920-7a9b-4513-fd71-a78a398ee5f8"
      },
      "outputs": [
        {
          "output_type": "stream",
          "name": "stdout",
          "text": [
            "\n",
            "X_train shape: (6902, 35)\n",
            "X_validation shape: (1923, 35)\n",
            "X_test shape: (1036, 35) \n",
            "\n",
            "y_train shape: (6902, 1)\n",
            "y_validation shape: (1923, 1)\n",
            "y_test shape: (1036, 1)\n"
          ]
        }
      ],
      "source": [
        "# adjust train, test, validation size as you wish\n",
        "X_train, X_temp, y_train, y_temp = train_test_split(fico_df, target, test_size=0.30, random_state=42)\n",
        "X_validation, X_test, y_validation, y_test = train_test_split(X_temp, y_temp, test_size=0.35, random_state=42)\n",
        "\n",
        "print(\"\\nX_train shape:\", X_train.shape)\n",
        "print(\"X_validation shape:\", X_validation.shape)\n",
        "print(\"X_test shape:\", X_test.shape, \"\\n\")\n",
        "\n",
        "print(\"y_train shape:\", y_train.shape)\n",
        "print(\"y_validation shape:\", y_validation.shape)\n",
        "print(\"y_test shape:\", y_test.shape)"
      ]
    },
    {
      "cell_type": "markdown",
      "metadata": {
        "id": "wngMfJnVaTcy"
      },
      "source": [
        "### **Inference**\n",
        "\n",
        "It is clear from the plot there is no heavy class imbalance and with the availablity of quite a reasonably large data set, the model will have enough data to pick up on both presence and absence of the target variable.\n",
        "\n"
      ]
    },
    {
      "cell_type": "markdown",
      "metadata": {
        "id": "jPvmGZaqkW8_"
      },
      "source": [
        "### **Plotting Function**\n",
        "\n",
        "We will need a plotter function to analyse the performance of our model i.e. the loss and accuracy curves. This function is defined as follows:"
      ]
    },
    {
      "cell_type": "code",
      "execution_count": 8,
      "metadata": {
        "id": "frlUfQix8fhC"
      },
      "outputs": [],
      "source": [
        "def plotter(history):\n",
        "    train_loss = history.history['loss']\n",
        "    val_loss = history.history['val_loss']\n",
        "    train_accuracy = history.history['accuracy']\n",
        "    val_accuracy = history.history['val_accuracy']\n",
        "    epochs = range(1, len(train_loss) + 1)\n",
        "\n",
        "    fig, (ax1, ax2) = plt.subplots(1, 2, figsize=(10, 4))\n",
        "\n",
        "    # Plot training and validation loss\n",
        "    ax1.plot(epochs, train_loss, 'b', label='Training Loss')\n",
        "    ax1.plot(epochs, val_loss, 'r', label='Validation Loss')\n",
        "    ax1.set_title('Training and Validation Loss')\n",
        "    ax1.set_xlabel('Epochs')\n",
        "    ax1.set_ylabel('Loss')\n",
        "    ax1.legend()\n",
        "\n",
        "    # Plot training and validation accuracy\n",
        "    ax2.plot(epochs, train_accuracy, 'b', label='Training Accuracy')\n",
        "    ax2.plot(epochs, val_accuracy, 'r', label='Validation Accuracy')\n",
        "    ax2.set_title('Training and Validation Accuracy')\n",
        "    ax2.set_xlabel('Epochs')\n",
        "    ax2.set_ylabel('Accuracy')\n",
        "    ax2.legend()\n",
        "\n",
        "    plt.tight_layout()\n",
        "    plt.show()"
      ]
    },
    {
      "cell_type": "markdown",
      "metadata": {
        "id": "Onp_YEn0bjl7"
      },
      "source": [
        "# **Baseline Model**\n",
        "\n",
        "A baseline model provides a benchmark for evaluating the performance of more complex models. It gives you a starting point to assess whether your advanced models are improving upon a simple, naive approach.\n",
        "\n",
        "Also this can provide insights into feature importance. You can use the baseline results to identify which features are informative and which may be less relevant, helping us prioritize feature engineering efforts.\n",
        "\n",
        "Initial efforts to determine a good representative model and model selection can be viewed in [Model Experimentation](https://github.com/WorkstationChris/WIL_Project/blob/main/Resources/binary_classification.ipynb)\n",
        "\n",
        "Another important factor to keep in mind is to not deliberately undercut the baseline model."
      ]
    },
    {
      "cell_type": "markdown",
      "metadata": {
        "id": "f_x-7EDdhzNP"
      },
      "source": [
        "### **Loss Metric**\n",
        "\n",
        "The loss metric used for this task is Binary Cross-Entropy. Binary Cross-Entropy, also known as log loss or logistic loss, is a common loss function used in binary classification problems. It is a fundamental and widely used loss metric for models that output probability scores for binary classification tasks.\n",
        "\n",
        "The binary cross-entropy loss is calculated using the following formula for a single data point:\n",
        "\n",
        "$$\n",
        "L(y,\\hat {y}) = - (y \\log ({\\hat y}) + (1 - y) \\log(1-{\\hat y}))\n",
        "$$\n",
        "\n"
      ]
    },
    {
      "cell_type": "markdown",
      "metadata": {
        "id": "p5GCbVz7ku_s"
      },
      "source": [
        "### **Evaluation metric**\n",
        "\n",
        "A few important considerations while determining the evaluation metric is analysing class imbalance and misclassification cost between class. In our particular case we do not have heavy class imbalance and as mentioned earlier the size of the dataset is reasonably large.\n",
        "\n",
        "Based on these considerations the evaluation metric used is accuracy."
      ]
    },
    {
      "cell_type": "code",
      "execution_count": 93,
      "metadata": {
        "colab": {
          "base_uri": "https://localhost:8080/"
        },
        "id": "ZFxGWZmIoCTn",
        "outputId": "5cd966a5-3c1f-4695-fad0-d736be98c913"
      },
      "outputs": [
        {
          "output_type": "stream",
          "name": "stdout",
          "text": [
            "33/33 [==============================] - 0s 2ms/step - loss: 0.5625 - accuracy: 0.7191\n",
            "Test Loss: 0.5625\n",
            "Test Accuracy: 0.7191\n"
          ]
        }
      ],
      "source": [
        "baseline_model = Sequential()\n",
        "\n",
        "# Add input layer\n",
        "baseline_model.add(Dense(64, activation = 'relu', input_dim = X_train.shape[1]))\n",
        "\n",
        "# Hidden layer 1\n",
        "baseline_model.add(Dense(32, activation = 'relu'))\n",
        "baseline_model.add(Dropout(0.6))  # Dropout layer to reduce overfitting\n",
        "\n",
        "# Output layer with sigmoid function\n",
        "baseline_model.add(Dense(units=1, activation = 'sigmoid'))\n",
        "\n",
        "# Compile with loss function, optimizer, and evaluation metric\n",
        "baseline_model.compile(optimizer=Adam(learning_rate=0.0006),\n",
        "                       loss='binary_crossentropy',\n",
        "                       metrics=['accuracy'])\n",
        "\n",
        "# Early Stopping for validation loss\n",
        "# early_stopping = EarlyStopping(monitor='val_loss', patience=15, restore_best_weights=True)\n",
        "\n",
        "# Train model\n",
        "baseline_history = baseline_model.fit(X_train, y_train,\n",
        "                                      validation_data=(X_validation, y_validation),\n",
        "                                      epochs=100,\n",
        "                                      # callbacks=[early_stopping],\n",
        "                                      batch_size=16,\n",
        "                                      verbose = 0)\n",
        "\n",
        "# Evaluate the model on the test data\n",
        "loss, accuracy = baseline_model.evaluate(X_test, y_test)\n",
        "print(f\"Test Loss: {loss:.4f}\")\n",
        "print(f\"Test Accuracy: {accuracy:.4f}\")"
      ]
    },
    {
      "cell_type": "code",
      "execution_count": 10,
      "metadata": {
        "colab": {
          "base_uri": "https://localhost:8080/",
          "height": 407
        },
        "id": "2DqKU8Slw9DG",
        "outputId": "2ebb7ed8-47df-42b9-b1cb-b6e998c554e3"
      },
      "outputs": [
        {
          "output_type": "display_data",
          "data": {
            "text/plain": [
              "<Figure size 1000x400 with 2 Axes>"
            ],
            "image/png": "[encoded data removed]"
          },
          "metadata": {}
        }
      ],
      "source": [
        "plotter(baseline_history)"
      ]
    },
    {
      "cell_type": "markdown",
      "metadata": {
        "id": "_FpFB-DBxR95"
      },
      "source": [
        "# **Minimum Viable Product**\n",
        "\n",
        "Based on the baseline model we can develop a minimum viable product by trying to reduce the overfitting in the baseline. The reason to try to mitigate this is to ensure our model can generalize better in new cases. To reduce overfitting we can either add regularization or reduce the complexity of our model or implement a combination of both which does not affect the accuracy while not increasing the validation loss.\n",
        "\n",
        "It might also be helpful to experiment with different smaller learning rates."
      ]
    },
    {
      "cell_type": "code",
      "execution_count": 92,
      "metadata": {
        "colab": {
          "base_uri": "https://localhost:8080/"
        },
        "id": "YDCqYZ129UHl",
        "outputId": "20bc6fce-2696-4e75-c24a-62709ded023b"
      },
      "outputs": [
        {
          "output_type": "stream",
          "name": "stdout",
          "text": [
            "33/33 [==============================] - 0s 2ms/step - loss: 0.5398 - accuracy: 0.7317\n",
            "Test Loss: 0.5398\n",
            "Test Accuracy: 0.7317\n"
          ]
        }
      ],
      "source": [
        "mvp_model = Sequential()\n",
        "\n",
        "# Add input layer\n",
        "mvp_model.add(Dense(64, activation = 'relu', input_dim = X_train.shape[1]))\n",
        "\n",
        "# Hidden layer 1\n",
        "mvp_model.add(Dense(32, activation = 'relu'))\n",
        "mvp_model.add(Dropout(0.45))  # Dropout layer to reduce overfitting\n",
        "\n",
        "# Output layer with sigmoid function\n",
        "mvp_model.add(Dense(units=1, activation = 'sigmoid'))\n",
        "\n",
        "# Compile with loss function, optimizer, and evaluation metric\n",
        "mvp_model.compile(optimizer=Adam(learning_rate=0.0001),\n",
        "                       loss='binary_crossentropy',\n",
        "                       metrics=['accuracy'])\n",
        "\n",
        "# Early Stopping for validation loss\n",
        "# early_stopping = EarlyStopping(monitor='val_loss', patience=15, restore_best_weights=True)\n",
        "\n",
        "# Train model\n",
        "mvp_history = mvp_model.fit(X_train, y_train,\n",
        "                            validation_data=(X_validation, y_validation),\n",
        "                            epochs=70,\n",
        "                            # callbacks=[early_stopping],\n",
        "                            batch_size=16,\n",
        "                            verbose = 0)\n",
        "\n",
        "# Evaluate the model on the test data\n",
        "mvp_loss, mvp_accuracy = mvp_model.evaluate(X_test, y_test)\n",
        "print(f\"Test Loss: {mvp_loss:.4f}\")\n",
        "print(f\"Test Accuracy: {mvp_accuracy:.4f}\")\n"
      ]
    },
    {
      "cell_type": "code",
      "execution_count": 94,
      "metadata": {
        "colab": {
          "base_uri": "https://localhost:8080/",
          "height": 407
        },
        "id": "3NuFRLPb-uRU",
        "outputId": "f9754c12-c530-4d98-c79e-4669ff269e5f"
      },
      "outputs": [
        {
          "output_type": "display_data",
          "data": {
            "text/plain": [
              "<Figure size 1000x400 with 2 Axes>"
            ],
            "image/png": "[encoded data removed]"
          },
          "metadata": {}
        }
      ],
      "source": [
        "plotter(mvp_history)"
      ]
    },
    {
      "cell_type": "markdown",
      "source": [
        "# **Results**\n",
        "\n",
        "We thus have a minimum viable model. In terms of loss and accuracy, the model achieves the same standards as the model developed by the winners of the [FICO Recognition awards](https://community.fico.com/s/blog-post/a5Q2E0000001czyUAA/fico1670). The final model does not show any signs of over fitting or under fitting which goes to say the model has good generalization ability."
      ],
      "metadata": {
        "id": "YldHi_UdKhzz"
      }
    },
    {
      "cell_type": "markdown",
      "source": [
        "# **Final Product**\n",
        "\n",
        "Now that we have a model that can predict the risk associated with an applicant, we can now use this model to deploy the product. This stage of the deployment process will include the prediction function, the actual prediction (as a sample we will be using random samples from the test set for testing puposes) and finally a plot to visualise the confidence level of an applicants capability to successfully repay a loan."
      ],
      "metadata": {
        "id": "hj87R7lcKr77"
      }
    },
    {
      "cell_type": "markdown",
      "source": [
        "## **Prediction**\n",
        "\n",
        "To predict new cases we are using samples from the test set to predict the risk scores of users. For testing purposes we have created a random generator."
      ],
      "metadata": {
        "id": "nVWy3uUCNzBY"
      }
    },
    {
      "cell_type": "code",
      "source": [
        "def predict_loan_risk(model, input_data):\n",
        "\n",
        "    # Make predictions\n",
        "    predictions = model.predict(input_data)\n",
        "\n",
        "    # Create a pandas Series for the predicted probabilities\n",
        "    predicted_probabilities = pd.Series(predictions.squeeze())\n",
        "\n",
        "    return predicted_probabilities\n"
      ],
      "metadata": {
        "id": "nkWb9fX8bZaq"
      },
      "execution_count": 95,
      "outputs": []
    },
    {
      "cell_type": "code",
      "source": [
        "# Get the number of samples in your test set\n",
        "num_test_samples = X_test.shape[0]\n",
        "\n",
        "# Choose a random index from the test set\n",
        "random_index = random.randint(0, num_test_samples - 1)\n",
        "\n",
        "# Extract the random test observation\n",
        "random_test_observation = X_test.iloc[random_index]\n",
        "\n",
        "# Reshape the observation to match the model's input shape\n",
        "random_test_observation = random_test_observation.values.reshape(1, -1)  # Reshape to a 2D array\n",
        "\n",
        "# Use the predict function with the random test observation\n",
        "predicted_probabilities = predict_loan_risk(mvp_model, random_test_observation)\n",
        "predicted_probabilities = float(predicted_probabilities)\n",
        "predicted_probabilities = round(predicted_probabilities ,2)\n",
        "\n",
        "# Chance of repayment\n",
        "repayment_probability = (1 - predicted_probabilities) * 100\n",
        "repayment_probability = round(repayment_probability ,2)\n",
        "# Define the threshold\n",
        "threshold = 0.5\n",
        "\n",
        "# Make a binary prediction based on the threshold\n",
        "if predicted_probabilities >= threshold:\n",
        "    prediction = \"Risk\"\n",
        "else:\n",
        "    prediction = \"Non-Risk\"\n",
        "\n",
        "# Display the random test observation, its predicted probability, and the binary prediction\n",
        "print(\"Random Test Observation:\")\n",
        "print(random_test_observation)\n",
        "print(\"\\nPredicted Probability:\")\n",
        "print(f\"{predicted_probabilities}\")\n",
        "\n",
        "print(f\"\\nChance of successful repayment:\")\n",
        "print(f\"{repayment_probability}%\")\n",
        "\n",
        "print(\"\\nPrediction:\")\n",
        "print(prediction)"
      ],
      "metadata": {
        "colab": {
          "base_uri": "https://localhost:8080/"
        },
        "id": "hsoq80UqL6Jn",
        "outputId": "f5b7d98b-44f7-4df1-82b2-49304ea97933"
      },
      "execution_count": 102,
      "outputs": [
        {
          "output_type": "stream",
          "name": "stdout",
          "text": [
            "1/1 [==============================] - 0s 22ms/step\n",
            "Random Test Observation:\n",
            "[[0.63934426 0.13982522 0.01321586 0.17924528 0.21518987 0.05263158\n",
            "  0.         0.72       0.17307692 0.05263158 0.28       0.\n",
            "  0.         0.         0.21231423 0.0625     0.32258065 0.\n",
            "  0.33       1.         1.         0.         0.         0.\n",
            "  0.         1.         0.         0.         0.         0.\n",
            "  1.         0.         0.         0.         0.        ]]\n",
            "\n",
            "Predicted Probability:\n",
            "0.69\n",
            "\n",
            "Chance of successful repayment:\n",
            "31.0%\n",
            "\n",
            "Prediction:\n",
            "Risk\n"
          ]
        }
      ]
    },
    {
      "cell_type": "markdown",
      "source": [
        "## **Confidence Plot**\n",
        "\n",
        "We have will be using the value on the sigmoid curve as a measure of confidence the model has for the successful repayment of the loan. This measure allows the user to gain insights into where they lie in terms of capability of repayment which allows them to take an informed decision."
      ],
      "metadata": {
        "id": "yASRMPU_N4GX"
      }
    },
    {
      "cell_type": "code",
      "source": [
        "# Predicted probability for the test observation\n",
        "predicted_probability = predicted_probabilities\n",
        "\n",
        "# Define the sigmoid function\n",
        "def sigmoid(x):\n",
        "    return 1 / (1 + np.exp(-x))\n",
        "\n",
        "# Generate x values (a range of values from -7 to 7)\n",
        "x = np.linspace(-5, 5, 200)\n",
        "\n",
        "# Calculate the corresponding y values using the sigmoid function\n",
        "y = sigmoid(x)\n",
        "\n",
        "# Plot the sigmoid curve above 0.5 on the y-axis in red and below 0.5 in green\n",
        "plt.plot(x[y >= 0.5], y[y >= 0.5], color='red', label='Risk')\n",
        "plt.plot(x[y <= 0.5], y[y <= 0.5], color='green', label='Non-Risk')\n",
        "\n",
        "# Calculate the x-coordinate on the sigmoid curve for the given y-coordinate (predicted_probability)\n",
        "x_predicted = np.interp(predicted_probability, y, x)\n",
        "\n",
        "# Highlight the predicted probability point\n",
        "plt.scatter(x=[x_predicted], y=predicted_probability, color='blue', label='User')\n",
        "\n",
        "# Label the axes and add a legend\n",
        "plt.xlabel('Input')\n",
        "plt.ylabel('Sigmoid Output')\n",
        "plt.legend()\n",
        "\n",
        "# Show the plot\n",
        "plt.title(f'Predicted Probability ({predicted_probability:.2f})')\n",
        "plt.grid(True)\n",
        "plt.show()\n"
      ],
      "metadata": {
        "colab": {
          "base_uri": "https://localhost:8080/",
          "height": 472
        },
        "id": "AVjJzfa5Mxqk",
        "outputId": "f874dbaa-88d4-48f8-afb3-9e4236acf74f"
      },
      "execution_count": 101,
      "outputs": [
        {
          "output_type": "display_data",
          "data": {
            "text/plain": [
              "<Figure size 640x480 with 1 Axes>"
            ],
            "image/png": "[encoded data removed]"
          },
          "metadata": {}
        }
      ]
    },
    {
      "cell_type": "markdown",
      "metadata": {
        "id": "Hz0DqXvGD70X"
      },
      "source": [
        "# **Conclusion**\n",
        "\n",
        "We now have a Minimum Viable Product which can which uses a Multi layer perceptron model to classify users based on the risk associated with the respective customer.\n",
        "\n",
        "\n",
        "The next step would be to use the developed model in a meb page which can be readily used to get predictions.\n",
        "\n",
        "**Future Development:**\n",
        "\n",
        "For this iteration the model acts like a black box, so for the iterations of development we will need to prioritise the explainability of our model.\n",
        "\n",
        "Feature engineering and efforts towars Multi-Output Neural network can help us introduce transparency to our model."
      ]
    },
    {
      "cell_type": "code",
      "source": [],
      "metadata": {
        "id": "WWv13EourKtL"
      },
      "execution_count": null,
      "outputs": []
    }
  ],
  "metadata": {
    "colab": {
      "provenance": [],
      "machine_shape": "hm",
      "gpuType": "V100"
    },
    "kernelspec": {
      "display_name": "Python 3",
      "name": "python3"
    },
    "language_info": {
      "name": "python"
    },
    "accelerator": "GPU"
  },
  "nbformat": 4,
  "nbformat_minor": 0
}